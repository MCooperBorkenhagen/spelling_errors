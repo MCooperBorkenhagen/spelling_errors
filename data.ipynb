{
 "cells": [
  {
   "cell_type": "code",
   "execution_count": 85,
   "metadata": {},
   "outputs": [],
   "source": [
    "import pandas as pd\n",
    "from nltk.corpus import cmudict\n",
    "import numpy as np\n",
    "\n",
    "cmu = cmudict.dict()\n",
    "\n",
    "misspelling_pronunciations =  pd.read_excel('data/mispelling_pronunciations.xlsx', engine = 'openpyxl')\n",
    "arpabet_table = pd.read_excel('../../words/ARPAbet/ARPAbet.xlsx', engine = 'openpyxl')\n",
    "elp = pd.read_csv('../../words/elp/elp_clean.csv')\n",
    "\n",
    "orth = elp.word.tolist() + misspellings.misspell.tolist()\n",
    "\n",
    "\n"
   ]
  },
  {
   "cell_type": "code",
   "execution_count": 121,
   "metadata": {},
   "outputs": [],
   "source": [
    "# fix some missing words in cmudict\n",
    "cmu['aah'] = [['AA1']]\n",
    "cmu['abase'] = [['AH0', 'B', 'EY1', 'S']]"
   ]
  },
  {
   "cell_type": "code",
   "execution_count": 120,
   "metadata": {},
   "outputs": [
    {
     "data": {
      "text/plain": [
       "[['AH0', 'M', 'EY1', 'Z']]"
      ]
     },
     "execution_count": 120,
     "metadata": {},
     "output_type": "execute_result"
    }
   ],
   "source": [
    "cmu['amaze']"
   ]
  },
  {
   "cell_type": "code",
   "execution_count": 102,
   "metadata": {},
   "outputs": [],
   "source": [
    "misspelling_pronunciations_ = {}\n",
    "\n",
    "for i, row in misspelling_pronunciations.iterrows():\n",
    "    misspelling_pronunciations_[row.Misspellings] = row.miss_preds_corrected"
   ]
  },
  {
   "cell_type": "markdown",
   "metadata": {},
   "source": []
  },
  {
   "cell_type": "markdown",
   "metadata": {},
   "source": [
    "We use ARPAbet two-letter to ARPAbet one-letter for the cmu transcriptions of our real words."
   ]
  },
  {
   "cell_type": "code",
   "execution_count": 71,
   "metadata": {},
   "outputs": [
    {
     "name": "stdout",
     "output_type": "stream",
     "text": [
      "nan nan ...pair skipped\n",
      "Find on row: 51\n",
      "Full content of that row:\n",
      " one-letter      NaN\n",
      "two-letter      NaN\n",
      "IPA             NaN\n",
      "klattese        NaN\n",
      "wpa               Y\n",
      "Example        spew\n",
      "Notes           NaN\n",
      "Sound class     NaN\n",
      "Name: 51, dtype: object\n"
     ]
    }
   ],
   "source": [
    "arpabet = {}\n",
    "\n",
    "def schwa(x):\n",
    "    assert isinstance(x, list), \"Provide a list for x please\"\n",
    "    assert isinstance(x[0], str), \"x should be a list of strings!\"\n",
    "    \n",
    "    return ['~' if e == 'AH0' else e for e in x]\n",
    "\n",
    "for i, row in arpabet_table.iterrows():\n",
    "    if isinstance(row['two-letter'], str):\n",
    "        arpabet[row['two-letter']] = row['one-letter']\n",
    "    else:\n",
    "        print(row['two-letter'], row['one-letter'], '...pair skipped')\n",
    "        print('Find on row:', i)\n",
    "        print('Full content of that row:\\n', row)\n",
    "    \n",
    "    arpabet['~'] = '~'"
   ]
  },
  {
   "cell_type": "markdown",
   "metadata": {},
   "source": [
    "We will use IPA transcriptions for the transcribed misspelling data."
   ]
  },
  {
   "cell_type": "code",
   "execution_count": 93,
   "metadata": {},
   "outputs": [
    {
     "name": "stdout",
     "output_type": "stream",
     "text": [
      "nan nan ...pair skipped\n",
      "Find on row: 51\n",
      "Full content of that row:\n",
      " one-letter      NaN\n",
      "two-letter      NaN\n",
      "IPA             NaN\n",
      "klattese        NaN\n",
      "wpa               Y\n",
      "Example        spew\n",
      "Notes           NaN\n",
      "Sound class     NaN\n",
      "Name: 51, dtype: object\n"
     ]
    },
    {
     "data": {
      "text/plain": [
       "{'ɑ': 'a',\n",
       " 'o': 'o',\n",
       " 'e': 'e',\n",
       " 'A': 'A',\n",
       " 'W': 'W',\n",
       " 'O': 'O',\n",
       " 'ə': '~',\n",
       " 'æ': '@',\n",
       " 'ʌ': 'A',\n",
       " 'ɔ': 'c',\n",
       " 'aʊ': 'W',\n",
       " 'ɚ': nan,\n",
       " 'aɪ': 'Y',\n",
       " 'ɛ': 'E',\n",
       " 'ɝ': 'R',\n",
       " 'eɪ': 'e',\n",
       " 'ɪ': 'I',\n",
       " 'ɨ': 'X',\n",
       " 'i': 'i',\n",
       " 'oʊ': 'o',\n",
       " 'ɔɪ': 'O',\n",
       " 'ʊ': 'U',\n",
       " 'u': 'u',\n",
       " 'ʉ': nan,\n",
       " 'b': 'b',\n",
       " 'tʃ': 'C',\n",
       " 'd': 'd',\n",
       " 'ð': 'D',\n",
       " 'ɾ': 'F',\n",
       " 'l̩': 'l',\n",
       " 'm̩': 'm',\n",
       " 'n̩': 'n',\n",
       " 'f': 'f',\n",
       " 'ɡ': 'g',\n",
       " 'h': 'h',\n",
       " 'dʒ': 'J',\n",
       " 'k': 'k',\n",
       " 'l': 'l',\n",
       " 'm': 'm',\n",
       " 'n': 'n',\n",
       " 'ŋ': 'G',\n",
       " 'ɾ̃': nan,\n",
       " 'p': 'p',\n",
       " 'ʔ': 'Q',\n",
       " 'ɹ': 'r',\n",
       " 's': 's',\n",
       " 'ʃ': 'S',\n",
       " 't': 't',\n",
       " 'θ': 'T',\n",
       " 'v': 'v',\n",
       " 'w': 'w',\n",
       " 'ʍ': 'H',\n",
       " 'j': 'y',\n",
       " 'z': 'z',\n",
       " 'ʒ': 'Z',\n",
       " '_': '_'}"
      ]
     },
     "execution_count": 93,
     "metadata": {},
     "output_type": "execute_result"
    }
   ],
   "source": [
    "ipa = {}\n",
    "\n",
    "for i, row in arpabet_table.iterrows():\n",
    "    if isinstance(row['two-letter'], str):\n",
    "        ipa[row['IPA']] = row['one-letter']\n",
    "    else:\n",
    "        print(row['IPA'], row['one-letter'], '...pair skipped')\n",
    "        print('Find on row:', i)\n",
    "        print('Full content of that row:\\n', row)\n",
    "    \n",
    "    # some cleanup, here for diphthongs. For these vowels we use a single character, some of which are not true IPA\n",
    "    # ipa simplex version:\n",
    "    ipa['o'] = 'o'\n",
    "    ipa['e'] = 'e'\n",
    "    \n",
    "    # non ipa simpex version\n",
    "    ipa['A'] = 'A'\n",
    "    ipa['W'] = 'W'\n",
    "    ipa['O'] = 'O'\n",
    "    \n",
    "    # also we want to use ~ for schwa (which isn't the ARPA convention)\n",
    "    ipa['ə'] = '~'\n",
    "    \n",
    "ipa"
   ]
  },
  {
   "cell_type": "code",
   "execution_count": 88,
   "metadata": {},
   "outputs": [],
   "source": [
    "def ipa_to_arpabet_one(x):\n",
    "\n",
    "    return ''.join([ipa[c] for c in x])\n",
    "    \n",
    "    "
   ]
  },
  {
   "cell_type": "code",
   "execution_count": 89,
   "metadata": {},
   "outputs": [],
   "source": [
    "def remove_digit(x):\n",
    "    \n",
    "    assert isinstance(x, list), \"Something other than a list provided as x\"\n",
    "    assert isinstance(x[0], str), \"x should be a list of strings, but it isn't\"\n",
    "    \n",
    "    def rm(s):\n",
    "        return ''.join([c for c in s if not c.isdigit()])\n",
    "    \n",
    "    \n",
    "    \n",
    "    return [rm(e) for e in schwa(x)]"
   ]
  },
  {
   "cell_type": "code",
   "execution_count": 131,
   "metadata": {},
   "outputs": [
    {
     "data": {
      "text/plain": [
       "'plWt'"
      ]
     },
     "execution_count": 131,
     "metadata": {},
     "output_type": "execute_result"
    }
   ],
   "source": [
    "'plaʊt'.replace('aʊ', 'W')"
   ]
  },
  {
   "cell_type": "markdown",
   "metadata": {},
   "source": [
    "Clean the IPA phoneme codings by removing the vowel length symbol and the four diphthongs.\n"
   ]
  },
  {
   "cell_type": "code",
   "execution_count": 163,
   "metadata": {},
   "outputs": [],
   "source": [
    "\n",
    "ipa_corrections = {\n",
    "    'aʊ': 'W',\n",
    "    'aɪ': 'A',\n",
    "    'eɪ': 'e',\n",
    "    'oʊ': 'o',\n",
    "    'ɔɪ': 'O',\n",
    "    'ː': ''}\n",
    "\n",
    "def clean_ipa(x):\n",
    "    for s in ipa_corrections.keys():\n",
    "        if s in x:\n",
    "            x = x.replace(s, ipa_corrections[s])\n",
    "    return x\n",
    "\n"
   ]
  },
  {
   "cell_type": "code",
   "execution_count": 164,
   "metadata": {},
   "outputs": [
    {
     "data": {
      "text/plain": [
       "'ghso'"
      ]
     },
     "execution_count": 164,
     "metadata": {},
     "output_type": "execute_result"
    }
   ],
   "source": [
    "clean_ipa('ghsoʊ')"
   ]
  },
  {
   "cell_type": "code",
   "execution_count": 90,
   "metadata": {},
   "outputs": [],
   "source": [
    "def arpa_one(x):\n",
    "    assert isinstance(x[0], str), \"x should be a list of strings, but it isn't\"\n",
    "    return ''.join([arpabet[e] for e in x])"
   ]
  },
  {
   "cell_type": "markdown",
   "metadata": {},
   "source": [
    "Test ARPAbet two-letter to ARPAbet one-letter"
   ]
  },
  {
   "cell_type": "code",
   "execution_count": 91,
   "metadata": {},
   "outputs": [
    {
     "data": {
      "text/plain": [
       "'kEC~p'"
      ]
     },
     "execution_count": 91,
     "metadata": {},
     "output_type": "execute_result"
    }
   ],
   "source": [
    "arpa_one(remove_digit(cmu['ketchup'][0]))"
   ]
  },
  {
   "cell_type": "markdown",
   "metadata": {},
   "source": [
    "Test IPA to one-letter ARPAbet"
   ]
  },
  {
   "cell_type": "code",
   "execution_count": 94,
   "metadata": {},
   "outputs": [
    {
     "data": {
      "text/plain": [
       "'kok@f~ni'"
      ]
     },
     "execution_count": 94,
     "metadata": {},
     "output_type": "execute_result"
    }
   ],
   "source": [
    "ipa_to_arpabet_one('kokæfəni')"
   ]
  },
  {
   "cell_type": "code",
   "execution_count": 114,
   "metadata": {},
   "outputs": [
    {
     "data": {
      "text/plain": [
       "'~'"
      ]
     },
     "execution_count": 114,
     "metadata": {},
     "output_type": "execute_result"
    }
   ],
   "source": [
    "arpa_one(remove_digit(cmu['a'][0]))"
   ]
  },
  {
   "cell_type": "code",
   "execution_count": 122,
   "metadata": {},
   "outputs": [
    {
     "ename": "KeyError",
     "evalue": "'abasement'",
     "output_type": "error",
     "traceback": [
      "\u001b[0;31m---------------------------------------------------------------------------\u001b[0m",
      "\u001b[0;31mKeyError\u001b[0m                                  Traceback (most recent call last)",
      "\u001b[0;32m<ipython-input-122-6d2adf0d5d09>\u001b[0m in \u001b[0;36m<module>\u001b[0;34m\u001b[0m\n\u001b[1;32m      5\u001b[0m             \u001b[0mmisspelling\u001b[0m \u001b[0;34m=\u001b[0m \u001b[0;32mTrue\u001b[0m\u001b[0;34m\u001b[0m\u001b[0;34m\u001b[0m\u001b[0m\n\u001b[1;32m      6\u001b[0m         \u001b[0;32melse\u001b[0m\u001b[0;34m:\u001b[0m\u001b[0;34m\u001b[0m\u001b[0;34m\u001b[0m\u001b[0m\n\u001b[0;32m----> 7\u001b[0;31m             \u001b[0mphon\u001b[0m \u001b[0;34m=\u001b[0m \u001b[0marpa_one\u001b[0m\u001b[0;34m(\u001b[0m\u001b[0mremove_digit\u001b[0m\u001b[0;34m(\u001b[0m\u001b[0mcmu\u001b[0m\u001b[0;34m[\u001b[0m\u001b[0mword\u001b[0m\u001b[0;34m]\u001b[0m\u001b[0;34m[\u001b[0m\u001b[0;36m0\u001b[0m\u001b[0;34m]\u001b[0m\u001b[0;34m)\u001b[0m\u001b[0;34m)\u001b[0m\u001b[0;34m\u001b[0m\u001b[0;34m\u001b[0m\u001b[0m\n\u001b[0m\u001b[1;32m      8\u001b[0m             \u001b[0mmisspelling\u001b[0m \u001b[0;34m=\u001b[0m \u001b[0;32mFalse\u001b[0m\u001b[0;34m\u001b[0m\u001b[0;34m\u001b[0m\u001b[0m\n\u001b[1;32m      9\u001b[0m         \u001b[0mf\u001b[0m\u001b[0;34m.\u001b[0m\u001b[0mwrite\u001b[0m\u001b[0;34m(\u001b[0m\u001b[0;34m'{}, {}, {}\\n'\u001b[0m\u001b[0;34m.\u001b[0m\u001b[0mformat\u001b[0m\u001b[0;34m(\u001b[0m\u001b[0mword\u001b[0m\u001b[0;34m,\u001b[0m \u001b[0mphon\u001b[0m\u001b[0;34m,\u001b[0m \u001b[0mmisspelling\u001b[0m\u001b[0;34m)\u001b[0m\u001b[0;34m)\u001b[0m\u001b[0;34m\u001b[0m\u001b[0;34m\u001b[0m\u001b[0m\n",
      "\u001b[0;31mKeyError\u001b[0m: 'abasement'"
     ]
    }
   ],
   "source": [
    "with open('data/all_orth_phon.csv', 'w') as f:\n",
    "    for word in orth:\n",
    "        if word in misspelling_pronunciations_.keys():\n",
    "            phon = ipa_to_arpabet_one(misspelling_pronunciations_[word])\n",
    "            misspelling = True\n",
    "        else:\n",
    "            phon = arpa_one(remove_digit(cmu[word][0]))\n",
    "            misspelling = False\n",
    "        f.write('{}, {}, {}\\n'.format(word, phon, misspelling))\n",
    "f.close()\n",
    "        "
   ]
  },
  {
   "cell_type": "markdown",
   "metadata": {},
   "source": [
    "Inspect missing words (from CMU dictionary)"
   ]
  },
  {
   "cell_type": "code",
   "execution_count": 123,
   "metadata": {},
   "outputs": [],
   "source": [
    "missing = []\n",
    "for word in orth:\n",
    "    if word in misspelling_pronunciations_.keys() or word in cmu.keys():\n",
    "        pass\n",
    "    else:\n",
    "        missing.append(word)\n"
   ]
  }
 ],
 "metadata": {
  "kernelspec": {
   "display_name": "Python 3.7.4 ('python3_env')",
   "language": "python",
   "name": "python3"
  },
  "language_info": {
   "codemirror_mode": {
    "name": "ipython",
    "version": 3
   },
   "file_extension": ".py",
   "mimetype": "text/x-python",
   "name": "python",
   "nbconvert_exporter": "python",
   "pygments_lexer": "ipython3",
   "version": "3.7.1"
  },
  "orig_nbformat": 4,
  "vscode": {
   "interpreter": {
    "hash": "7c87c89642609041192033b4f33bc42b9a0cfb7ce4d636b18abcb06a9a62660e"
   }
  }
 },
 "nbformat": 4,
 "nbformat_minor": 2
}
